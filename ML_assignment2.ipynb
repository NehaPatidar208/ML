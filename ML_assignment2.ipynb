{
 "cells": [
  {
   "cell_type": "code",
   "execution_count": 3,
   "metadata": {},
   "outputs": [
    {
     "name": "stdout",
     "output_type": "stream",
     "text": [
      "Enter number of rows2\n",
      "Enter number of columns3\n",
      "Matrix with random values is given as:\n",
      " [[219121800       478 219121864]\n",
      " [      478 219121928       478]]\n"
     ]
    }
   ],
   "source": [
    "#write the output of the program in file\n",
    "import numpy as np\n",
    "import sys\n",
    "\n",
    "rows=int(input(\"Enter number of rows\"))  #taking input no of rows from user\n",
    "columns=int(input(\"Enter number of columns\"))  #taking input no of columns from user\n",
    "matrix =np.empty([rows,columns],dtype=int)\n",
    "print(\"Matrix with random values is given as:\\n\",matrix)\n",
    "\n",
    "fp=open(\"Output_file_of_assignment.txt\",\"w\")\n",
    "fp.write(str(matrix)) \n",
    "fp.close()\n",
    "\n"
   ]
  },
  {
   "cell_type": "code",
   "execution_count": null,
   "metadata": {},
   "outputs": [],
   "source": []
  }
 ],
 "metadata": {
  "kernelspec": {
   "display_name": "Python 3",
   "language": "python",
   "name": "python3"
  },
  "language_info": {
   "codemirror_mode": {
    "name": "ipython",
    "version": 3
   },
   "file_extension": ".py",
   "mimetype": "text/x-python",
   "name": "python",
   "nbconvert_exporter": "python",
   "pygments_lexer": "ipython3",
   "version": "3.7.3"
  }
 },
 "nbformat": 4,
 "nbformat_minor": 2
}
