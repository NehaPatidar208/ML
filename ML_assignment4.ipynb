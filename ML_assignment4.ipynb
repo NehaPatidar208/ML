{
 "cells": [
  {
   "cell_type": "code",
   "execution_count": 1,
   "metadata": {},
   "outputs": [
    {
     "name": "stdout",
     "output_type": "stream",
     "text": [
      "Enter the no of rows2\n",
      "Enter the no of columns6\n",
      "[[0. 0. 0. 0. 0. 0.]\n",
      " [0. 0. 0. 0. 0. 0.]]\n",
      "[[0. 0. 0. 0. 0. 0.]]\n",
      "[[0. 0. 0.]\n",
      " [0. 0. 0.]]\n",
      "[[0. 0.]\n",
      " [0. 0.]\n",
      " [0. 0.]]\n",
      "[[0.]\n",
      " [0.]\n",
      " [0.]\n",
      " [0.]\n",
      " [0.]\n",
      " [0.]]\n"
     ]
    }
   ],
   "source": [
    "#take the no of rows and columns from user then print all the zero matrix in which rows*columns are equal to the max of rows and columns\n",
    "import numpy as np\n",
    "rows=int(input(\"Enter the no of rows\"))\n",
    "columns=int(input(\"Enter the no of columns\"))\n",
    "if(rows>columns):\n",
    "    max=rows\n",
    "else:\n",
    "    max=columns\n",
    "print(np.zeros([rows,columns]))\n",
    "\n",
    "for i in range(1,max+1):\n",
    "    if((max % i == 0) and (max %(int(max/i))==0)):\n",
    "        print(np.zeros([i,(max//i)]))\n"
   ]
  },
  {
   "cell_type": "code",
   "execution_count": null,
   "metadata": {},
   "outputs": [],
   "source": []
  }
 ],
 "metadata": {
  "kernelspec": {
   "display_name": "Python 3",
   "language": "python",
   "name": "python3"
  },
  "language_info": {
   "codemirror_mode": {
    "name": "ipython",
    "version": 3
   },
   "file_extension": ".py",
   "mimetype": "text/x-python",
   "name": "python",
   "nbconvert_exporter": "python",
   "pygments_lexer": "ipython3",
   "version": "3.7.3"
  }
 },
 "nbformat": 4,
 "nbformat_minor": 2
}
