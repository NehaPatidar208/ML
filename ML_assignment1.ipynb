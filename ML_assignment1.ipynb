{
 "cells": [
  {
   "cell_type": "code",
   "execution_count": 1,
   "metadata": {},
   "outputs": [
    {
     "name": "stdout",
     "output_type": "stream",
     "text": [
      "Enter number of rows2\n",
      "Enter number of columns3\n",
      "Matrix with random values is given as:\n",
      " [[0.64345199 0.0956718  0.68286732]\n",
      " [0.99630215 0.10980111 0.93294976]]\n"
     ]
    }
   ],
   "source": [
    "#taking no of rows and columns from user and printing the matrix with random values\n",
    "import numpy as np\n",
    "rows=int(input(\"Enter number of rows\"))  #taking input no of rows from user\n",
    "columns=int(input(\"Enter number of columns\"))  #taking input no of columns from user\n",
    "matrix =np.random.random([rows,columns])\n",
    "print(\"Matrix with random values is given as:\\n\",matrix)\n"
   ]
  },
  {
   "cell_type": "code",
   "execution_count": 2,
   "metadata": {},
   "outputs": [
    {
     "name": "stdout",
     "output_type": "stream",
     "text": [
      "Enter no of rows2\n",
      "Enter no of columns3\n",
      "Enter 6 elements separated by ,(comma)\n",
      "1,2,3,4,5,6\n",
      "[[1 2 3]\n",
      " [4 5 6]]\n"
     ]
    }
   ],
   "source": [
    "#taking no of rows and columns from user and taking the elements of matrix from user as well\n",
    "import numpy as np\n",
    "rows=int(input(\"Enter no of rows\"))\n",
    "columns=int(input(\"Enter no of columns\"))\n",
    "print(\"Enter %d elements separated by ,(comma)\"%(rows*columns))\n",
    "#ar=np.array(rows,columns)\n",
    "l=list(map(int,input().split(\",\")))\n",
    "\n",
    "mat=np.array(l).reshape(rows,columns)\n",
    "print(mat)"
   ]
  },
  {
   "cell_type": "markdown",
   "metadata": {},
   "source": []
  }
 ],
 "metadata": {
  "kernelspec": {
   "display_name": "Python 3",
   "language": "python",
   "name": "python3"
  },
  "language_info": {
   "codemirror_mode": {
    "name": "ipython",
    "version": 3
   },
   "file_extension": ".py",
   "mimetype": "text/x-python",
   "name": "python",
   "nbconvert_exporter": "python",
   "pygments_lexer": "ipython3",
   "version": "3.7.3"
  }
 },
 "nbformat": 4,
 "nbformat_minor": 2
}
